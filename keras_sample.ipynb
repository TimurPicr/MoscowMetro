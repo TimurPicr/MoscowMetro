{
 "cells": [
  {
   "cell_type": "markdown",
   "id": "7d09c87a-5461-4ce4-b294-c22089a0ff0a",
   "metadata": {},
   "source": [
    "# Грузим библиотеки"
   ]
  },
  {
   "cell_type": "code",
   "execution_count": 9,
   "id": "993cb716-cdf1-4920-8457-4933277bcffc",
   "metadata": {},
   "outputs": [],
   "source": [
    "from tensorflow.keras.datasets import fashion_mnist\n",
    "from tensorflow.keras.applications import ResNet152V2"
   ]
  },
  {
   "cell_type": "markdown",
   "id": "4086b85c-54f9-4efb-9d83-92dcb334219f",
   "metadata": {},
   "source": [
    "# Описания моделей"
   ]
  },
  {
   "cell_type": "markdown",
   "id": "09618df5-9455-4713-8d71-0c57ba6bf230",
   "metadata": {},
   "source": [
    "Универсальная модель - LSTM\n",
    "\n",
    "### FNN (классика)\n",
    "\n",
    "Классификация и много данных - MLP\n",
    "\n",
    "Проверить на возможность упрощения нейросети - AE (как песочные часы)\n",
    "\n",
    "Воспроизвести картинку - RBM, DBM\n",
    "\n",
    "### CNN (мало слоев, легче обучать)\n",
    "\n",
    "Детекция - ResNet\n",
    "\n",
    "Сегментация - UNet\n",
    "\n",
    "Тепловая карта классификации - FCN\n",
    "\n",
    "Обработка фото - Deconvolution networks\n",
    "\n",
    "### Рекуррентные сети (зависимость по времени или вычислить что-то сложное)\n",
    "\n",
    "На все случаи жизни - RNN, LSTM, GRU\n",
    "\n",
    "Если надо вернуться назад по времени - BRNN, BLSTM"
   ]
  }
 ],
 "metadata": {
  "kernelspec": {
   "display_name": "Python 3 (ipykernel)",
   "language": "python",
   "name": "python3"
  },
  "language_info": {
   "codemirror_mode": {
    "name": "ipython",
    "version": 3
   },
   "file_extension": ".py",
   "mimetype": "text/x-python",
   "name": "python",
   "nbconvert_exporter": "python",
   "pygments_lexer": "ipython3",
   "version": "3.10.12"
  }
 },
 "nbformat": 4,
 "nbformat_minor": 5
}
